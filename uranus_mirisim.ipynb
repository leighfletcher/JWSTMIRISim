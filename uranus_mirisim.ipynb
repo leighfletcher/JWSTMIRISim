{
 "cells": [
  {
   "cell_type": "markdown",
   "metadata": {},
   "source": [
    "## Notebook to Simulate MIRI Observations based on NEMESIS Outputs\n",
    "\n",
    "When launching the notebook, make sure in the right Anaconda environment. i.e. type\n",
    "\n",
    "<code> source activate mirisim </code> \n",
    "\n",
    "in the terminal before starting the notebook.  This is based on contributions from A. Glasse, N. Rowe-Gurney, and the MIRISim walkthrough.\n",
    "\n",
    "Mirisim can be run via notebooks or directly as a callable python package. \n",
    "\n",
    "L.N. Fletcher (2021)\n",
    "\n",
    "### Open Questions:\n",
    "* Am I correctly mapping the NEMESIS cubes to detector, disperser, MRS sub-band?\n",
    "* I am providing only a single MRS sub-band to the simulator, and yet both halves of the detector frame seem to have contents (e.g., CH1/2 for 'SW' detector; CH4/3 for 'LW' detector) - why?\n",
    "* Background is not yet included - what are the units?  Are the expected units uJy/arcsec^2?"
   ]
  },
  {
   "cell_type": "code",
   "execution_count": 1,
   "metadata": {},
   "outputs": [],
   "source": [
    "# Set up MIRISIM and import useful tools:\n",
    "from mirisim import MiriSimulation\n",
    "\n",
    "# import the configuration file parsers so they can be written to file\n",
    "from mirisim.config_parser import SimConfig, SceneConfig, SimulatorConfig\n",
    "#from mirisim.skysim import wrap_pysynphot as wS\n",
    "\n",
    "# import scene component generators\n",
    "from mirisim.skysim import Background\n",
    "\n",
    "#other tools to be used\n",
    "import numpy as np\n",
    "import glob                 # glob is used to find the output directory\n",
    "import os                   # for listing directory contents\n",
    "from astropy.io import fits # for reading FITS file contents\n",
    "\n",
    "import matplotlib.pyplot as plt    # to display images\n",
    "from matplotlib import colors,cm\n",
    "%matplotlib inline   \n",
    "\n",
    "import astropy.units as u\n"
   ]
  },
  {
   "cell_type": "markdown",
   "metadata": {},
   "source": [
    "## 1) Read & Modify the Uranus Scene:\n",
    "\n",
    "The direct cubes calculated by NEMESIS are subdivided into 12 seperate channels, each with an associated wavelength grid that doesn't appear to be used right now.  In the block that follows, the header of the FITS file is updated to be recognised by the MIRISim code.\n",
    "\n",
    "#### Mapping Simulation Cube to MRS Parameters\n",
    "\n",
    "Detector = Specify Dectector (SW = channels 1,2, LW= channels 3,4)\n",
    "Channel = channels 1-4 (also called MRS subbands)\n",
    "Disperser = Specify disperser to use (SHORT/MEDIUM/LONG, aka A/B/C)\n",
    "\n",
    "1. SW 1 SHORT/A\n",
    "1. SW 1 MEDIUM/B\n",
    "1. SW 1 LONG/C\n",
    "1. SW 2 SHORT/A\n",
    "1. SW 2 MEDIUM/B\n",
    "1. SW 2 LONG/C\n",
    "1. LW 3 SHORT/A\n",
    "1. LW 3 MEDIUM/B\n",
    "1. LW 3 LONG/C\n",
    "1. LW 4 SHORT/A\n",
    "1. LW 4 MEDIUM/B\n",
    "1. LW 4 LONG/C\n",
    "\n",
    "\n"
   ]
  },
  {
   "cell_type": "code",
   "execution_count": 2,
   "metadata": {},
   "outputs": [
    {
     "name": "stdout",
     "output_type": "stream",
     "text": [
      "Channel: 7\n",
      "Disperser: SHORT\n",
      "Optical Path: MRS_3SHORT\n",
      "Detector LW\n",
      "Wavelengths: 11.44 13.6398 974\n",
      "Dispersion: 0.002258522065023622\n",
      "Modified FITS file created\n"
     ]
    }
   ],
   "source": [
    "# Mapping the Cube to the MRS sub-band, disperser, and detector:\n",
    "ichan=7\n",
    "\n",
    "if ichan==1:\n",
    "    ConfigPath = 'MRS_1SHORT'\n",
    "    disperser = 'SHORT'\n",
    "    detector = 'SW'\n",
    "    u_raw_fits = \"NEMESISCubes/uranusMRS_chan1_radJy.fits\"\n",
    "    wav_fits = \"NEMESISCubes/uranusMRS_chan1_wave.fits\"\n",
    "if ichan==2:\n",
    "    ConfigPath = 'MRS_1MEDIUM'\n",
    "    disperser = 'MEDIUM'\n",
    "    detector = 'SW'\n",
    "    u_raw_fits = \"NEMESISCubes/uranusMRS_chan2_radJy.fits\"\n",
    "    wav_fits = \"NEMESISCubes/uranusMRS_chan2_wave.fits\"\n",
    "if ichan==3:\n",
    "    ConfigPath = 'MRS_1LONG'\n",
    "    disperser = 'LONG'\n",
    "    detector = 'SW'\n",
    "    u_raw_fits = \"NEMESISCubes/uranusMRS_chan3_radJy.fits\"\n",
    "    wav_fits = \"NEMESISCubes/uranusMRS_chan3_wave.fits\"\n",
    "if ichan==4:\n",
    "    ConfigPath = 'MRS_2SHORT'\n",
    "    disperser = 'SHORT'\n",
    "    detector = 'SW'\n",
    "    u_raw_fits = \"NEMESISCubes/uranusMRS_chan4_radJy.fits\"\n",
    "    wav_fits = \"NEMESISCubes/uranusMRS_chan4_wave.fits\"\n",
    "if ichan==5:\n",
    "    ConfigPath = 'MRS_2MEDIUM'\n",
    "    disperser = 'MEDIUM'\n",
    "    detector = 'SW'\n",
    "    u_raw_fits = \"NEMESISCubes/uranusMRS_chan5_radJy.fits\"\n",
    "    wav_fits = \"NEMESISCubes/uranusMRS_chan5_wave.fits\"\n",
    "if ichan==6:\n",
    "    ConfigPath = 'MRS_2LONG'\n",
    "    disperser = 'LONG'\n",
    "    detector = 'SW'\n",
    "    u_raw_fits = \"NEMESISCubes/uranusMRS_chan6_radJy.fits\"\n",
    "    wav_fits = \"NEMESISCubes/uranusMRS_chan6_wave.fits\"\n",
    "if ichan==7:\n",
    "    ConfigPath = 'MRS_3SHORT'\n",
    "    disperser = 'SHORT'\n",
    "    detector = 'LW'\n",
    "    u_raw_fits = \"NEMESISCubes/uranusMRS_chan7_radJy.fits\"\n",
    "    wav_fits = \"NEMESISCubes/uranusMRS_chan7_wave.fits\"\n",
    "if ichan==8:\n",
    "    ConfigPath = 'MRS_3MEDIUM'\n",
    "    disperser = 'MEDIUM'\n",
    "    detector = 'LW'\n",
    "    u_raw_fits = \"NEMESISCubes/uranusMRS_chan8_radJy.fits\"\n",
    "    wav_fits = \"NEMESISCubes/uranusMRS_chan8_wave.fits\"\n",
    "if ichan==9:\n",
    "    ConfigPath = 'MRS_3LONG'\n",
    "    disperser = 'LONG'\n",
    "    detector = 'LW'    \n",
    "    u_raw_fits = \"NEMESISCubes/uranusMRS_chan9_radJy.fits\"\n",
    "    wav_fits = \"NEMESISCubes/uranusMRS_chan9_wave.fits\"\n",
    "if ichan==10:\n",
    "    ConfigPath = 'MRS_4SHORT'\n",
    "    disperser = 'SHORT'\n",
    "    detector = 'LW'\n",
    "    u_raw_fits = \"NEMESISCubes/uranusMRS_chan10_radJy.fits\"\n",
    "    wav_fits = \"NEMESISCubes/uranusMRS_chan10_wave.fits\"\n",
    "if ichan==11:\n",
    "    ConfigPath = 'MRS_4MEDIUM'\n",
    "    disperser = 'MEDIUM'\n",
    "    detector = 'LW'\n",
    "    u_raw_fits = \"NEMESISCubes/uranusMRS_chan11_radJy.fits\"\n",
    "    wav_fits = \"NEMESISCubes/uranusMRS_chan11_wave.fits\"\n",
    "if ichan==12:\n",
    "    ConfigPath = 'MRS_4LONG'\n",
    "    disperser = 'LONG'\n",
    "    detector = 'LW'    \n",
    "    u_raw_fits = \"NEMESISCubes/uranusMRS_chan12_radJy.fits\"\n",
    "    wav_fits = \"NEMESISCubes/uranusMRS_chan12_wave.fits\"\n",
    "    \n",
    "print(\"Channel:\",ichan)\n",
    "print(\"Disperser:\",disperser)\n",
    "print(\"Optical Path:\",ConfigPath)\n",
    "print(\"Detector\",detector)\n",
    "    \n",
    "hdu_list = fits.open(u_raw_fits)\n",
    "hdu = hdu_list[0]\n",
    "\n",
    "\n",
    "whdu_list = fits.open(wav_fits)\n",
    "whdu = whdu_list[0]\n",
    "\n",
    "wavegrid=whdu.data\n",
    "\n",
    "vmin=np.min(wavegrid)\n",
    "vmax=np.max(wavegrid)\n",
    "nwav=len(wavegrid)\n",
    "dwave=(vmax-vmin)/nwav\n",
    "\n",
    "print(\"Wavelengths:\",vmin,vmax,nwav)\n",
    "print(\"Dispersion:\",dwave)\n",
    "\n",
    "crpix = (1, 1, 1)\n",
    "crval = (0., 0., vmin)\n",
    "dpix = 0.11                 # Pixel size in arcsec\n",
    "#dwave = 0.00073             # micron (bw / 1300 ~\n",
    "cdelt = (dpix, dpix, dwave)\n",
    "\n",
    "hdu.header['CRVAL1'] = crval[0]\n",
    "hdu.header['CRPIX1'] = crpix[0]\n",
    "hdu.header['CDELT1'] = cdelt[0]\n",
    "hdu.header['CUNIT1'] = u.arcsec.to_string()\n",
    "hdu.header['CTYPE1'] = 'RA---TAN'\n",
    "\n",
    "hdu.header['CRVAL2'] = crval[1]\n",
    "hdu.header['CRPIX2'] = crpix[1]\n",
    "hdu.header['CDELT2'] = cdelt[1]\n",
    "hdu.header['CUNIT2'] = u.arcsec.to_string()\n",
    "hdu.header['CTYPE2'] = 'DEC--TAN'\n",
    "\n",
    "hdu.header['CRVAL3'] = crval[2]\n",
    "hdu.header['CRPIX3'] = crpix[2]\n",
    "hdu.header['CDELT3'] = cdelt[2]\n",
    "hdu.header['CUNIT3'] = u.micron.to_string()\n",
    "hdu.header['CTYPE3'] = 'WAVE    '\n",
    "\n",
    "hdu.header['UNITS'] = 'uJy / arcsec2'  #u.microjansky.to_string()\n",
    "\n",
    "hdu.data = np.multiply(hdu.data, 1.0e6)  # NEMESIS data in Jy/arcsec^2, multiply to get microJy/arcsec^2\n",
    "\n",
    "run_file_name = 'run_scene.fits'\n",
    "if os.path.isfile(run_file_name):\n",
    "    os.remove(run_file_name)\n",
    "hdu.writeto(run_file_name)\n",
    "\n",
    "print(\"Modified FITS file created\")\n"
   ]
  },
  {
   "cell_type": "code",
   "execution_count": 3,
   "metadata": {},
   "outputs": [
    {
     "name": "stderr",
     "output_type": "stream",
     "text": [
      "2021-01-06 15:41:20,312 - INFO - Initializing Background\n"
     ]
    }
   ],
   "source": [
    "### create a low level background for the scene\n",
    "bg = Background(level='low', gradient = 5., pa = 15.)  # Gradient=0 == contant background)\n",
    "\n",
    "# NOTE!  bg is currently unused, and needs to be added to the scene or FITS image (see below).\n",
    "\n"
   ]
  },
  {
   "cell_type": "markdown",
   "metadata": {},
   "source": [
    "# 2) Initialise the Simulation Parameters\n",
    "\n",
    "This is where the parameters for the MRS simulation get set. Note that for internal consistency in MIRISim, all settings (including those not used in the MRS simulation here) must be set. Those not being used in this simulation are labelled with <code> NOT USED HERE </code> in the comments of each line\n",
    "\n",
    "MIRISim then needs a configuration file to run.\n",
    "Questions:\n",
    "* Should we change ConfigPath for each subband?  Yes, doesn't make sense otherwise.\n",
    "* Do we need to change the imager filter when using the MRS?  No, don't think it's used."
   ]
  },
  {
   "cell_type": "code",
   "execution_count": 4,
   "metadata": {},
   "outputs": [
    {
     "name": "stderr",
     "output_type": "stream",
     "text": [
      "2021-01-06 15:41:25,788 - INFO - Using scene configuration: uranus_scene.ini\n"
     ]
    },
    {
     "name": "stdout",
     "output_type": "stream",
     "text": [
      "MRS_simulation.ini exists, overwrite (y/[n])?y\n",
      "Simulation configuration complete.\n"
     ]
    }
   ],
   "source": [
    "sim_config = SimConfig.makeSim(\n",
    "    name = 'Uranus.test',           # name given to simulation,\n",
    "    scene = 'uranus_scene',         # name of scene file to input,\n",
    "    rel_obsdate = 0.0,              # relative observation date (0 = launch, 1 = end of 5 yrs),\n",
    "    POP = 'MRS',                    # Component on which to center (Imager or MRS),\n",
    "    ConfigPath = ConfigPath,      # Configure the Optical path (MRS sub-band)\n",
    "    Dither = False,                 # Dither  - use false for test case\n",
    "    StartInd = 1,                   # Start index for dither pattern\n",
    "    NDither = 2,                    # Number of dither positions (12)\n",
    "    DitherPat = 'mrs_recommended_dither.dat', # dither pattern to use   - If using REULEAUX need to update,\n",
    "    disperser = disperser,        # Which disperser to use (SHORT/MEDIUM/LONG)\n",
    "    detector = detector,            # Specify Channel (SW = channels 1,2, LW= channels 3,4)\n",
    "    mrs_mode = 'FAST',          # MRS read mode (default is SLOW. ~ 24s)\n",
    "    mrs_exposures = 2,          # MRS number of exposures\n",
    "    mrs_integrations = 10,      # MRS number of integrations\n",
    "    mrs_frames = 10,            # MRS number of groups (for MIRI, # Groups = # Frames)\n",
    "    ima_exposures = 1,          # IMA number of exposures,\n",
    "    ima_integrations = 10,      # IMA number of integrations (5)\",\n",
    "    ima_frames = 10,            # IMA number of groups (for MIRI, # Groups = # Frames),\n",
    "    ima_mode = 'FAST',          # IMA read mode (default is FAST ~ 2.3 s),\n",
    "    filter = 'F770W',           # IMA Filter to use,\n",
    "    readDetect = 'FULL'         # Portion of detector to read out,\n",
    ")\n",
    "\n",
    "simulator_config = SimulatorConfig.from_default()\n",
    "scene_config = SceneConfig('uranus_scene.ini')\n",
    "\n",
    "### Suggestion from Alistair for adding background (doesn't work).\n",
    "#scene_config = SceneConfig('uranus_scene.ini',background=bg)\n",
    "# Export the simulation setup to a file.\n",
    "sim_config.write('MRS_simulation.ini')\n",
    "\n",
    "\n",
    "print(\"Simulation configuration complete.\")"
   ]
  },
  {
   "cell_type": "markdown",
   "metadata": {},
   "source": [
    "# 3) Run the simulation\n",
    "\n",
    "Now that the scene and the setup of the simulation have been set, we can run the simulation.\n",
    "\n",
    "the last step is to setup the defaults for internal things like CDPs.\n",
    "Outputs to unique directory format: YYYYMMDD_HHMMSS_mirisim"
   ]
  },
  {
   "cell_type": "code",
   "execution_count": null,
   "metadata": {},
   "outputs": [
    {
     "name": "stderr",
     "output_type": "stream",
     "text": [
      "2021-01-06 15:41:51,743 - INFO - MIRISim version: 2.3.0\n",
      "2021-01-06 15:41:51,744 - INFO - MIRI Simulation started.\n",
      "2021-01-06 15:41:51,745 - INFO - Output will be saved to: 20210106_154151_mirisim\n",
      "2021-01-06 15:41:51,746 - INFO - Storing configs in output directory.\n"
     ]
    },
    {
     "name": "stdout",
     "output_type": "stream",
     "text": [
      "Running simulation:\n"
     ]
    },
    {
     "name": "stderr",
     "output_type": "stream",
     "text": [
      "2021-01-06 15:41:52,235 - INFO - Reading cosmic ray properties from parameter file /opt/anaconda3/envs/mirisim/lib/python3.7/site-packages/miri/simulators/scasim/cosmic_ray_properties.py\n",
      "2021-01-06 15:41:52,241 - INFO - Reading detector properties from parameter file /opt/anaconda3/envs/mirisim/lib/python3.7/site-packages/miri/simulators/scasim/detector_properties.py\n",
      "2021-01-06 15:41:52,287 - INFO - Storing dither pattern in output directory.\n",
      "2021-01-06 15:41:52,289 - WARNING - Environment variable CDP_DIR is not set. Will look up / store CDP files at ./CDP\n",
      "2021-01-06 15:41:52,290 - INFO - Setting up simulated Observation, with following settings:\n",
      "2021-01-06 15:41:52,291 - INFO - Configuration Path: MRS_3SHORT\n",
      "2021-01-06 15:41:52,291 - INFO - Primary optical path: MRS\n",
      "2021-01-06 15:41:52,292 - INFO - MRS detector: LW\n",
      "2021-01-06 15:41:52,293 - INFO - MRS band: SHORT\n",
      "2021-01-06 15:41:52,293 - INFO - MRS detector readout mode: FAST\n",
      "2021-01-06 15:41:52,294 - INFO - MRS detector # exposures: 2\n",
      "2021-01-06 15:41:52,294 - INFO - MRS detector # integrations: 10\n",
      "2021-01-06 15:41:52,295 - INFO - MRS detector # frames: 10\n",
      "2021-01-06 15:41:52,295 - INFO - Parsing: input fits\n",
      "2021-01-06 15:41:52,297 - INFO - Initializing Skycube\n",
      "2021-01-06 15:41:52,297 - INFO - Loading external scene from FITS run_scene.fits\n",
      "2021-01-06 15:41:52,355 - INFO - Aligning the centre of the fits file with the centre of the scene\n",
      "2021-01-06 15:41:52,356 - INFO - Simulating a single pointing.\n"
     ]
    }
   ],
   "source": [
    "\n",
    "sim = MiriSimulation(sim_config, scene_config, simulator_config)\n",
    "\n",
    "print(\"Running simulation:\")\n",
    "sim.run()\n"
   ]
  },
  {
   "cell_type": "markdown",
   "metadata": {},
   "source": [
    "# 4) Examine some of the results\n",
    "\n",
    "Now that the MIRISim simulation has completed, lets examine the results. \n",
    "\n",
    "\n",
    "The first thing to note is that the outputs are placed in a date-labelled directory taking the form  <code> YYYYMMDD_hhmmss_mirisim</code>.  The name of the output directory is given in the last line of the MIRISim log above.  Because the output directory is date-labelled, we can quantify which was the most recent run of MIRISim, and find its output directory using <code>glob.glob</code>"
   ]
  },
  {
   "cell_type": "code",
   "execution_count": null,
   "metadata": {},
   "outputs": [],
   "source": [
    "outputdir = sorted(glob.glob('*_*_mirisim'),key=os.path.getmtime)[-1]    #[-1] takes the last entry found\n",
    "\n",
    "outputDirContents = os.listdir(outputdir)\n",
    "\n",
    "directories = [name for name in outputDirContents if os.path.isdir(os.path.join(outputdir,name))]\n",
    "files = [name for name in outputDirContents if not os.path.isdir(os.path.join(outputdir,name))]\n",
    "\n",
    "print('The subdirectories in the outputdirectory are:\\n{}'.format(directories))\n",
    "print('The files in the outputdirectory are:\\n{}'.format(files))"
   ]
  },
  {
   "cell_type": "markdown",
   "metadata": {},
   "source": [
    "The files contain the log which was also output to the terminal (<code> mirisim.log</code>) and copies of the .ini files used (or created from python inputs) to create the simulation. These versions of the .ini files can be used to re-create the run of the simulation\n",
    "\n",
    "The directories contain various outputs of MIRISim:\n",
    "\n",
    "* **<code> skycubes </code>** houses a 3D representation of the input scene to the MRS simulation (skycubes are not generated for imager or LRS simulations). This cube has not been processed by MIRISim, it is simply a gridded (spatially and spectrally) version of the input scene.  \n",
    "* **<code> illum_models </code>** houses FITS images of the illuminations sent to the detector (sent to SCAsim - the simulator of the Sensor Chip Assembly).  This should have the same format as the detector image, but without all of the detector effects and noise. There are FITS files produced for each exposure and dither position\n",
    "* **<code> det_images </code>** houses FITS images of the final outputs of MIRISim. These detector images have all of the detector effects and noise incorporated. The number of detector images should be the same as the number of illumination models. \n",
    "\n",
    "The headers of the detector images are formatted for ingest into the JWST pipeline. \n",
    "\n",
    "Below is a small code snippet used to draw the images.  it needs to be run, but doesn't produce any output directly (it's called later to show the output images)"
   ]
  },
  {
   "cell_type": "code",
   "execution_count": null,
   "metadata": {},
   "outputs": [],
   "source": [
    "def show_outputs(MIRISim_outputdir,output_type):\n",
    "    '''\n",
    "    plot the specified channel of the MIRISim outputs\n",
    "    :param MIRISim_outputdir:  \n",
    "        name of the date-labelled dir. holding the MIRISIM outputs\n",
    "    :param output_type: \n",
    "        type of output to process \n",
    "        (e.g. illum_models, det_images or skycubes)\n",
    "    '''\n",
    "    \n",
    "    infits = glob.glob('{}/{}/*.fits'.format(MIRISim_outputdir,output_type))[0]\n",
    "    \n",
    "    hdulist = fits.open(infits)\n",
    "    \n",
    "    if output_type.lower() == 'skycubes': \n",
    "        hdu_index = 0\n",
    "        datashape = hdulist[hdu_index].data.shape\n",
    "        central_chan = datashape[0]/2\n",
    "        plt.imshow(hdulist[hdu_index].data[central_chan,:,:],\n",
    "           origin = 'lower', interpolation = 'nearest',cmap = cm.viridis)\n",
    "        plt.title('channel {} of {}'.format(central_chan,infits.split('/')[-1]))\n",
    "        plt.xlabel(hdulist[hdu_index].header['ctype1'])\n",
    "        plt.ylabel(hdulist[hdu_index].header['ctype2'])\n",
    "    else:\n",
    "        hdu_index = 1\n",
    "        if len(hdulist[hdu_index].data.shape) > 2:\n",
    "            integ,frames,nx,ny = hdulist[hdu_index].data.shape\n",
    "            image = hdulist[hdu_index].data[integ-1,frames-1,:,:]\n",
    "        else:\n",
    "            image = hdulist[hdu_index].data\n",
    "            \n",
    "        \n",
    "        plt.imshow(image, origin = 'lower',cmap = cm.viridis,interpolation='nearest')\n",
    "        plt.title('{}'.format(infits.split('/')[-1]))\n",
    "        plt.xlabel('Along Slice Direction')\n",
    "        plt.ylabel('Wavelength Direction')\n",
    "\n",
    "\n",
    "    plt.colorbar()\n",
    "    plt.savefig('MRS_{}.png'.format(output_type))\n"
   ]
  },
  {
   "cell_type": "markdown",
   "metadata": {},
   "source": [
    "### Viewing a slice of the skycube\n",
    "\n",
    "Below, we show an image of the central channel of one of the skycubes generated by MIRISim"
   ]
  },
  {
   "cell_type": "code",
   "execution_count": null,
   "metadata": {},
   "outputs": [],
   "source": [
    "#show_outputs(outputdir,'skycubes')\n",
    "# Doesn't appear to be working."
   ]
  },
  {
   "cell_type": "markdown",
   "metadata": {},
   "source": [
    "### Viewing an illumination model\n",
    "\n",
    "Below shows an example of an output illumination model"
   ]
  },
  {
   "cell_type": "code",
   "execution_count": null,
   "metadata": {},
   "outputs": [],
   "source": [
    "show_outputs(outputdir,'illum_models')"
   ]
  },
  {
   "cell_type": "markdown",
   "metadata": {},
   "source": [
    "### Viewing the final detector image\n",
    "\n",
    "The detector images are the final output of MIRISim, and have data structures and formatting consistent with what will come from MIRI itself. The data format is JWST pipeline ready.  Below an example image of the last frame of the last integration is shown. The units are <code>DN</code>.\n",
    "\n",
    "Additionally, below the FITS header information for the SCIENCE extension is listed.\n",
    "\n",
    "This is the \"Level 1\" data."
   ]
  },
  {
   "cell_type": "code",
   "execution_count": null,
   "metadata": {},
   "outputs": [],
   "source": [
    "show_outputs(outputdir,'det_images')\n",
    "\n",
    "infits = glob.glob('{}/det_images/*.fits'.format(outputdir))[0]\n",
    "hdulist = fits.open(infits)\n",
    "hdulist[1].header"
   ]
  },
  {
   "cell_type": "markdown",
   "metadata": {},
   "source": [
    "### Next Steps\n",
    "* Run through MRS pipeline to test output products.\n",
    "* Patrick Kavanagh has provided some excellent notebooks at, https://github.com/PaddyKavanagh\n",
    "* For this dataset, Alistair adapted build7.2.1/MRS_pipeline.ipynb which runs all pipeline steps up to cube building and spectrum extraction."
   ]
  }
 ],
 "metadata": {
  "kernelspec": {
   "display_name": "Python 3",
   "language": "python",
   "name": "python3"
  },
  "language_info": {
   "codemirror_mode": {
    "name": "ipython",
    "version": 3
   },
   "file_extension": ".py",
   "mimetype": "text/x-python",
   "name": "python",
   "nbconvert_exporter": "python",
   "pygments_lexer": "ipython3",
   "version": "3.7.7"
  }
 },
 "nbformat": 4,
 "nbformat_minor": 2
}
